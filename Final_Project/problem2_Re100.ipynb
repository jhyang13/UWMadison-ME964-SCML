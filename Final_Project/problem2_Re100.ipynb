{
 "cells": [
  {
   "cell_type": "code",
   "execution_count": 6,
   "metadata": {},
   "outputs": [],
   "source": [
    "import numpy as np\n",
    "from scipy.linalg import svd\n",
    "from sklearn.gaussian_process import GaussianProcessRegressor\n",
    "from sklearn.gaussian_process.kernels import RBF, ConstantKernel as C\n"
   ]
  },
  {
   "cell_type": "markdown",
   "metadata": {},
   "source": [
    "### Question 2.1: Generate m Snapshot Data"
   ]
  },
  {
   "cell_type": "code",
   "execution_count": 7,
   "metadata": {},
   "outputs": [
    {
     "name": "stdout",
     "output_type": "stream",
     "text": [
      "Snapshot data generated with m=20, dt=0.01, dx=0.001.\n"
     ]
    }
   ],
   "source": [
    "# Parameters for snapshot generation\n",
    "dt = 1e-2  # Time step\n",
    "dx = 1e-3  # Spatial grid length\n",
    "m = 20     # Number of snapshots\n",
    "\n",
    "# Generate time and spatial grids\n",
    "t = np.arange(0, m * dt, dt)  # Time grid from t1 to tm\n",
    "x = np.arange(-1, 1 + dx, dx)  # Spatial grid\n",
    "\n",
    "# Define the analytical solution for the Burgers equation\n",
    "def analytical_solution(x, t, Re_fixed):\n",
    "    t0 = np.exp(Re_fixed / 8)  # Parameter in the equation\n",
    "    u = x / (t + 1) / (1 + np.sqrt((t + 1) / t0) * np.exp(Re_fixed * x**2 / (4 * (t + 1))))\n",
    "    return u\n",
    "\n",
    "# Generate snapshot data\n",
    "Re_fixed = 100  # Reynolds number for this question\n",
    "usol = np.array([[analytical_solution(xi, ti, Re_fixed) for xi in x] for ti in t])\n",
    "\n",
    "# Save snapshot data\n",
    "np.savez(\"dataset/Burgers_snapshots.npz\", t=t, x=x, usol=usol)\n",
    "print(f\"Snapshot data generated with m={m}, dt={dt}, dx={dx}.\")"
   ]
  },
  {
   "cell_type": "markdown",
   "metadata": {},
   "source": [
    "### Question 2.2: Construct ROM and Determine t∗"
   ]
  },
  {
   "cell_type": "code",
   "execution_count": 8,
   "metadata": {},
   "outputs": [
    {
     "name": "stdout",
     "output_type": "stream",
     "text": [
      "Number of selected modes (k): 2\n",
      "Maximum permissible forecast time t^*: 0.66\n"
     ]
    }
   ],
   "source": [
    "# Step 1: Perform SVD\n",
    "\n",
    "# Load snapshot data\n",
    "data = np.load(\"dataset/Burgers_snapshots.npz\")\n",
    "t = data[\"t\"]  # Time grid\n",
    "x = data[\"x\"]  # Spatial grid\n",
    "usol = data[\"usol\"]  # Snapshot matrix\n",
    "\n",
    "# Perform SVD on A\n",
    "A = usol  # Snapshot matrix\n",
    "U, S, VT = svd(A, full_matrices=False)\n",
    "\n",
    "# Select k modes based on cumulative energy threshold\n",
    "alpha_SVD = 0.01  # Error threshold\n",
    "#k = np.sum(np.cumsum(S**2) / np.sum(S**2) < 1 - alpha_SVD)\n",
    "k =2\n",
    "print(f\"Number of selected modes (k): {k}\")\n",
    "\n",
    "# Extract the first k modes\n",
    "U_k = U[:, :k]  # Temporal coefficients\n",
    "S_k = S[:k]     # Singular values\n",
    "V_k = VT[:k, :]  # Spatial modes\n",
    "\n",
    "# Step 2: Fit uq(ti) Using GPR\n",
    "\n",
    "# Fit GPR models for each mode q=1,...,k\n",
    "gp_models = []\n",
    "for q in range(k):\n",
    "    kernel = C(1.0, (1e-4, 1e4)) * RBF(1.0, (1e-4, 1e4))\n",
    "    gp = GaussianProcessRegressor(kernel=kernel, n_restarts_optimizer=10, alpha=1e-6)\n",
    "    gp.fit(t.reshape(-1, 1), U_k[:, q])  # Fit GPR for temporal mode u_q(t)\n",
    "    gp_models.append(gp)\n",
    "\n",
    "# Step 3: Predict ROM Solution for New Time Points\n",
    "\n",
    "# Predict ROM solution u_ROM(t, x)\n",
    "def predict_u_rom(t_new, x, gp_models, S_k, V_k):\n",
    "    U_pred = np.zeros((len(t_new), k))\n",
    "    for q, gp in enumerate(gp_models):\n",
    "        U_pred[:, q] = gp.predict(t_new.reshape(-1, 1))\n",
    "    \n",
    "    A_pred = np.dot(U_pred * S_k, V_k)  # A ≈ u_ROM(t, x)\n",
    "    return A_pred\n",
    "\n",
    "# Example: Predict u_ROM(t, x) for a new time range\n",
    "t_new = np.arange(0, 2.0, dt)  # New time range\n",
    "u_rom_pred = predict_u_rom(t_new, x, gp_models, S_k, V_k)\n",
    "\n",
    "# Step 4: Determine Maximum Permissible Forecast Time t∗\n",
    "\n",
    "# Compute average standard deviation σ̄(t')\n",
    "def compute_avg_std(t_new, gp_models):\n",
    "    std_total = np.zeros(len(t_new))\n",
    "    for gp in gp_models:\n",
    "        _, std = gp.predict(t_new.reshape(-1, 1), return_std=True)\n",
    "        std_total += std\n",
    "    return std_total / len(gp_models)\n",
    "\n",
    "# Determine t* based on σ̄(t') ≤ σ_tolerance\n",
    "sigma_tolerance = 0.1  # Allowed prediction error threshold\n",
    "std_avg = compute_avg_std(t_new, gp_models)\n",
    "\n",
    "# Find the last time index where std_avg is below the threshold\n",
    "t_star_index = np.where(std_avg <= sigma_tolerance)[0][-1]\n",
    "t_star = t_new[t_star_index]\n",
    "print(f\"Maximum permissible forecast time t^*: {t_star}\")\n"
   ]
  },
  {
   "cell_type": "markdown",
   "metadata": {},
   "source": [
    "### Question 2.3: Predict Full-Order Solutions Up to t∗"
   ]
  },
  {
   "cell_type": "code",
   "execution_count": 9,
   "metadata": {},
   "outputs": [
    {
     "name": "stdout",
     "output_type": "stream",
     "text": [
      "Full-order solution at t^* = 0.66 is ready.\n"
     ]
    }
   ],
   "source": [
    "# Use the ROM to predict up to t*\n",
    "u_rom_at_t_star = predict_u_rom(np.array([t_star]), x, gp_models, S_k, V_k)\n",
    "\n",
    "# Take u_rom_at_t_star as initial condition for next step\n",
    "u_full_t_star = u_rom_at_t_star  # Full-order solution at t*\n",
    "print(f\"Full-order solution at t^* = {t_star} is ready.\")"
   ]
  },
  {
   "cell_type": "markdown",
   "metadata": {},
   "source": [
    "### Question 2.4: Repeat Steps 1-3 Until T=2.0"
   ]
  },
  {
   "cell_type": "code",
   "execution_count": 10,
   "metadata": {},
   "outputs": [
    {
     "name": "stdout",
     "output_type": "stream",
     "text": [
      "Long-time prediction completed up to T = 2.0.\n"
     ]
    }
   ],
   "source": [
    "T_target = 2.0  # Target time\n",
    "t_current = t  # Current time grid\n",
    "u_rom_current = usol  # Initial solution\n",
    "\n",
    "while np.max(t_current) < T_target:\n",
    "    # Recompute SVD and GPR models\n",
    "    A = u_rom_current  # Update A matrix\n",
    "    U, S, VT = svd(A, full_matrices=False)\n",
    "    k = np.sum(np.cumsum(S**2) / np.sum(S**2) < 1 - alpha_SVD)\n",
    "    U_k = U[:, :k]\n",
    "    S_k = S[:k]\n",
    "    V_k = VT[:k, :]\n",
    "    \n",
    "    gp_models = []\n",
    "    for q in range(k):\n",
    "        kernel = C(1.0, (1e-4, 1e4)) * RBF(1.0, (1e-4, 1e4))\n",
    "        gp = GaussianProcessRegressor(kernel=kernel, n_restarts_optimizer=10, alpha=1e-6)\n",
    "        gp.fit(t_current.reshape(-1, 1), U_k[:, q])\n",
    "        gp_models.append(gp)\n",
    "    \n",
    "    # Predict ROM solution for the new time range\n",
    "    t_new = np.linspace(np.max(t_current), np.max(t_current) + 0.5, 50)\n",
    "    u_rom_pred = predict_u_rom(t_new, x, gp_models, S_k, V_k)\n",
    "    \n",
    "    # Update current time and solution\n",
    "    t_current = np.concatenate([t_current, t_new])\n",
    "    u_rom_current = np.vstack([u_rom_current, u_rom_pred])\n",
    "    \n",
    "    # Check if t^* has reached the target time\n",
    "    if np.max(t_current) >= T_target:\n",
    "        break\n",
    "\n",
    "print(f\"Long-time prediction completed up to T = {T_target}.\")\n"
   ]
  }
 ],
 "metadata": {
  "kernelspec": {
   "display_name": "base",
   "language": "python",
   "name": "python3"
  },
  "language_info": {
   "codemirror_mode": {
    "name": "ipython",
    "version": 3
   },
   "file_extension": ".py",
   "mimetype": "text/x-python",
   "name": "python",
   "nbconvert_exporter": "python",
   "pygments_lexer": "ipython3",
   "version": "3.12.4"
  }
 },
 "nbformat": 4,
 "nbformat_minor": 2
}
