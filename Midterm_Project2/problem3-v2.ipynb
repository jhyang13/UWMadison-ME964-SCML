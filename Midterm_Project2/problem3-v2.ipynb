{
 "cells": [
  {
   "cell_type": "code",
   "execution_count": 8,
   "metadata": {},
   "outputs": [],
   "source": [
    "import os\n",
    "import numpy as np\n",
    "import torch\n",
    "import torch.nn as nn\n",
    "import torch.optim as optim\n",
    "import matplotlib.pyplot as plt\n",
    "from torchdiffeq import odeint  # Importing odeint for ODE solving"
   ]
  },
  {
   "cell_type": "code",
   "execution_count": 9,
   "metadata": {},
   "outputs": [
    {
     "data": {
      "image/png": "[encoded data removed]",
      "text/plain": [
       "<Figure size 800x400 with 2 Axes>"
      ]
     },
     "metadata": {},
     "output_type": "display_data"
    },
    {
     "name": "stdout",
     "output_type": "stream",
     "text": [
      "Iter 0001 | Total Loss 141.682159\n"
     ]
    },
    {
     "data": {
      "text/plain": [
       "<Figure size 640x480 with 0 Axes>"
      ]
     },
     "metadata": {},
     "output_type": "display_data"
    },
    {
     "name": "stdout",
     "output_type": "stream",
     "text": [
      "Iter 0100 | Total Loss 43.111336\n"
     ]
    },
    {
     "data": {
      "text/plain": [
       "<Figure size 640x480 with 0 Axes>"
      ]
     },
     "metadata": {},
     "output_type": "display_data"
    },
    {
     "ename": "KeyboardInterrupt",
     "evalue": "",
     "output_type": "error",
     "traceback": [
      "\u001b[1;31m---------------------------------------------------------------------------\u001b[0m",
      "\u001b[1;31mKeyboardInterrupt\u001b[0m                         Traceback (most recent call last)",
      "Cell \u001b[1;32mIn[9], line 110\u001b[0m\n\u001b[0;32m    108\u001b[0m \u001b[38;5;28;01mif\u001b[39;00m itr \u001b[38;5;241m%\u001b[39m test_freq \u001b[38;5;241m==\u001b[39m \u001b[38;5;241m0\u001b[39m \u001b[38;5;129;01mor\u001b[39;00m itr \u001b[38;5;241m==\u001b[39m \u001b[38;5;241m1\u001b[39m:\n\u001b[0;32m    109\u001b[0m     \u001b[38;5;28;01mwith\u001b[39;00m torch\u001b[38;5;241m.\u001b[39mno_grad():\n\u001b[1;32m--> 110\u001b[0m         pred_y \u001b[38;5;241m=\u001b[39m odeint(func, true_y0, t)\n\u001b[0;32m    111\u001b[0m         loss \u001b[38;5;241m=\u001b[39m torch\u001b[38;5;241m.\u001b[39mmean(torch\u001b[38;5;241m.\u001b[39mabs(pred_y \u001b[38;5;241m-\u001b[39m noisy_y))\n\u001b[0;32m    112\u001b[0m         \u001b[38;5;28mprint\u001b[39m(\u001b[38;5;124mf\u001b[39m\u001b[38;5;124m'\u001b[39m\u001b[38;5;124mIter \u001b[39m\u001b[38;5;132;01m{\u001b[39;00mitr\u001b[38;5;132;01m:\u001b[39;00m\u001b[38;5;124m04d\u001b[39m\u001b[38;5;132;01m}\u001b[39;00m\u001b[38;5;124m | Total Loss \u001b[39m\u001b[38;5;132;01m{\u001b[39;00mloss\u001b[38;5;241m.\u001b[39mitem()\u001b[38;5;132;01m:\u001b[39;00m\u001b[38;5;124m.6f\u001b[39m\u001b[38;5;132;01m}\u001b[39;00m\u001b[38;5;124m'\u001b[39m)\n",
      "File \u001b[1;32md:\\anaconda3\\Lib\\site-packages\\torchdiffeq\\_impl\\odeint.py:79\u001b[0m, in \u001b[0;36modeint\u001b[1;34m(func, y0, t, rtol, atol, method, options, event_fn)\u001b[0m\n\u001b[0;32m     76\u001b[0m solver \u001b[38;5;241m=\u001b[39m SOLVERS[method](func\u001b[38;5;241m=\u001b[39mfunc, y0\u001b[38;5;241m=\u001b[39my0, rtol\u001b[38;5;241m=\u001b[39mrtol, atol\u001b[38;5;241m=\u001b[39matol, \u001b[38;5;241m*\u001b[39m\u001b[38;5;241m*\u001b[39moptions)\n\u001b[0;32m     78\u001b[0m \u001b[38;5;28;01mif\u001b[39;00m event_fn \u001b[38;5;129;01mis\u001b[39;00m \u001b[38;5;28;01mNone\u001b[39;00m:\n\u001b[1;32m---> 79\u001b[0m     solution \u001b[38;5;241m=\u001b[39m solver\u001b[38;5;241m.\u001b[39mintegrate(t)\n\u001b[0;32m     80\u001b[0m \u001b[38;5;28;01melse\u001b[39;00m:\n\u001b[0;32m     81\u001b[0m     event_t, solution \u001b[38;5;241m=\u001b[39m solver\u001b[38;5;241m.\u001b[39mintegrate_until_event(t[\u001b[38;5;241m0\u001b[39m], event_fn)\n",
      "File \u001b[1;32md:\\anaconda3\\Lib\\site-packages\\torchdiffeq\\_impl\\solvers.py:34\u001b[0m, in \u001b[0;36mAdaptiveStepsizeODESolver.integrate\u001b[1;34m(self, t)\u001b[0m\n\u001b[0;32m     32\u001b[0m \u001b[38;5;28mself\u001b[39m\u001b[38;5;241m.\u001b[39m_before_integrate(t)\n\u001b[0;32m     33\u001b[0m \u001b[38;5;28;01mfor\u001b[39;00m i \u001b[38;5;129;01min\u001b[39;00m \u001b[38;5;28mrange\u001b[39m(\u001b[38;5;241m1\u001b[39m, \u001b[38;5;28mlen\u001b[39m(t)):\n\u001b[1;32m---> 34\u001b[0m     solution[i] \u001b[38;5;241m=\u001b[39m \u001b[38;5;28mself\u001b[39m\u001b[38;5;241m.\u001b[39m_advance(t[i])\n\u001b[0;32m     35\u001b[0m \u001b[38;5;28;01mreturn\u001b[39;00m solution\n",
      "File \u001b[1;32md:\\anaconda3\\Lib\\site-packages\\torchdiffeq\\_impl\\rk_common.py:227\u001b[0m, in \u001b[0;36mRKAdaptiveStepsizeODESolver._advance\u001b[1;34m(self, next_t)\u001b[0m\n\u001b[0;32m    225\u001b[0m \u001b[38;5;28;01mwhile\u001b[39;00m next_t \u001b[38;5;241m>\u001b[39m \u001b[38;5;28mself\u001b[39m\u001b[38;5;241m.\u001b[39mrk_state\u001b[38;5;241m.\u001b[39mt1:\n\u001b[0;32m    226\u001b[0m     \u001b[38;5;28;01massert\u001b[39;00m n_steps \u001b[38;5;241m<\u001b[39m \u001b[38;5;28mself\u001b[39m\u001b[38;5;241m.\u001b[39mmax_num_steps, \u001b[38;5;124m'\u001b[39m\u001b[38;5;124mmax_num_steps exceeded (\u001b[39m\u001b[38;5;132;01m{}\u001b[39;00m\u001b[38;5;124m>=\u001b[39m\u001b[38;5;132;01m{}\u001b[39;00m\u001b[38;5;124m)\u001b[39m\u001b[38;5;124m'\u001b[39m\u001b[38;5;241m.\u001b[39mformat(n_steps, \u001b[38;5;28mself\u001b[39m\u001b[38;5;241m.\u001b[39mmax_num_steps)\n\u001b[1;32m--> 227\u001b[0m     \u001b[38;5;28mself\u001b[39m\u001b[38;5;241m.\u001b[39mrk_state \u001b[38;5;241m=\u001b[39m \u001b[38;5;28mself\u001b[39m\u001b[38;5;241m.\u001b[39m_adaptive_step(\u001b[38;5;28mself\u001b[39m\u001b[38;5;241m.\u001b[39mrk_state)\n\u001b[0;32m    228\u001b[0m     n_steps \u001b[38;5;241m+\u001b[39m\u001b[38;5;241m=\u001b[39m \u001b[38;5;241m1\u001b[39m\n\u001b[0;32m    229\u001b[0m \u001b[38;5;28;01mreturn\u001b[39;00m _interp_evaluate(\u001b[38;5;28mself\u001b[39m\u001b[38;5;241m.\u001b[39mrk_state\u001b[38;5;241m.\u001b[39minterp_coeff, \u001b[38;5;28mself\u001b[39m\u001b[38;5;241m.\u001b[39mrk_state\u001b[38;5;241m.\u001b[39mt0, \u001b[38;5;28mself\u001b[39m\u001b[38;5;241m.\u001b[39mrk_state\u001b[38;5;241m.\u001b[39mt1, next_t)\n",
      "File \u001b[1;32md:\\anaconda3\\Lib\\site-packages\\torchdiffeq\\_impl\\rk_common.py:292\u001b[0m, in \u001b[0;36mRKAdaptiveStepsizeODESolver._adaptive_step\u001b[1;34m(self, rk_state)\u001b[0m\n\u001b[0;32m    287\u001b[0m         dt \u001b[38;5;241m=\u001b[39m t1 \u001b[38;5;241m-\u001b[39m t0\n\u001b[0;32m    289\u001b[0m \u001b[38;5;66;03m# Must be arranged as doing all the step_t handling, then all the jump_t handling, in case we\u001b[39;00m\n\u001b[0;32m    290\u001b[0m \u001b[38;5;66;03m# trigger both. (i.e. interleaving them would be wrong.)\u001b[39;00m\n\u001b[1;32m--> 292\u001b[0m y1, f1, y1_error, k \u001b[38;5;241m=\u001b[39m _runge_kutta_step(\u001b[38;5;28mself\u001b[39m\u001b[38;5;241m.\u001b[39mfunc, y0, f0, t0, dt, t1, tableau\u001b[38;5;241m=\u001b[39m\u001b[38;5;28mself\u001b[39m\u001b[38;5;241m.\u001b[39mtableau)\n\u001b[0;32m    293\u001b[0m \u001b[38;5;66;03m# dtypes:\u001b[39;00m\n\u001b[0;32m    294\u001b[0m \u001b[38;5;66;03m# y1.dtype == self.y0.dtype\u001b[39;00m\n\u001b[0;32m    295\u001b[0m \u001b[38;5;66;03m# f1.dtype == self.y0.dtype\u001b[39;00m\n\u001b[1;32m   (...)\u001b[0m\n\u001b[0;32m    300\u001b[0m \u001b[38;5;66;03m#                     Error Ratio                      #\u001b[39;00m\n\u001b[0;32m    301\u001b[0m \u001b[38;5;66;03m########################################################\u001b[39;00m\n\u001b[0;32m    302\u001b[0m error_ratio \u001b[38;5;241m=\u001b[39m _compute_error_ratio(y1_error, \u001b[38;5;28mself\u001b[39m\u001b[38;5;241m.\u001b[39mrtol, \u001b[38;5;28mself\u001b[39m\u001b[38;5;241m.\u001b[39matol, y0, y1, \u001b[38;5;28mself\u001b[39m\u001b[38;5;241m.\u001b[39mnorm)\n",
      "File \u001b[1;32md:\\anaconda3\\Lib\\site-packages\\torchdiffeq\\_impl\\rk_common.py:77\u001b[0m, in \u001b[0;36m_runge_kutta_step\u001b[1;34m(func, y0, f0, t0, dt, t1, tableau)\u001b[0m\n\u001b[0;32m     75\u001b[0m     ti \u001b[38;5;241m=\u001b[39m t0 \u001b[38;5;241m+\u001b[39m alpha_i \u001b[38;5;241m*\u001b[39m dt\n\u001b[0;32m     76\u001b[0m     perturb \u001b[38;5;241m=\u001b[39m Perturb\u001b[38;5;241m.\u001b[39mNONE\n\u001b[1;32m---> 77\u001b[0m yi \u001b[38;5;241m=\u001b[39m y0 \u001b[38;5;241m+\u001b[39m torch\u001b[38;5;241m.\u001b[39msum(k[\u001b[38;5;241m.\u001b[39m\u001b[38;5;241m.\u001b[39m\u001b[38;5;241m.\u001b[39m, :i \u001b[38;5;241m+\u001b[39m \u001b[38;5;241m1\u001b[39m] \u001b[38;5;241m*\u001b[39m (beta_i \u001b[38;5;241m*\u001b[39m dt), dim\u001b[38;5;241m=\u001b[39m\u001b[38;5;241m-\u001b[39m\u001b[38;5;241m1\u001b[39m)\u001b[38;5;241m.\u001b[39mview_as(f0)\n\u001b[0;32m     78\u001b[0m f \u001b[38;5;241m=\u001b[39m func(ti, yi, perturb\u001b[38;5;241m=\u001b[39mperturb)\n\u001b[0;32m     79\u001b[0m k \u001b[38;5;241m=\u001b[39m _UncheckedAssign\u001b[38;5;241m.\u001b[39mapply(k, f, (\u001b[38;5;241m.\u001b[39m\u001b[38;5;241m.\u001b[39m\u001b[38;5;241m.\u001b[39m, i \u001b[38;5;241m+\u001b[39m \u001b[38;5;241m1\u001b[39m))\n",
      "\u001b[1;31mKeyboardInterrupt\u001b[0m: "
     ]
    }
   ],
   "source": [
    "# Set random seeds for reproducibility\n",
    "torch.manual_seed(1000)\n",
    "np.random.seed(1000)\n",
    "\n",
    "# Select device (GPU if available, otherwise CPU)\n",
    "device = torch.device('cuda' if torch.cuda.is_available() else 'cpu')\n",
    "\n",
    "# Define parameters\n",
    "method = 'dopri5'           # ODE solver method\n",
    "data_size = 1000            # Number of data points\n",
    "batch_time = 10             # Time steps for each batch\n",
    "batch_size = 20             # Number of samples per batch\n",
    "niters = 11100              # Number of training iterations\n",
    "test_freq = 100             # Frequency of testing\n",
    "viz = True                  # Enable visualization\n",
    "\n",
    "# Define the true system (ground truth dynamics)\n",
    "true_y0 = torch.tensor([[0.1, 0.1]]).to(device)      # Initial state\n",
    "t = torch.linspace(0., 1000., data_size).to(device)  # Time points\n",
    "true_A = torch.tensor([[-0.1, 2.0], [-2.0, -0.1]]).to(device)  # True system matrix\n",
    "\n",
    "class Lambda(nn.Module):\n",
    "    def forward(self, t, y):\n",
    "        # Define dynamics for the true system\n",
    "        return torch.mm(y**3, true_A)\n",
    "\n",
    "# Generate true system data with added noise\n",
    "with torch.no_grad():\n",
    "    true_y = odeint(Lambda(), true_y0, t, method=method)\n",
    "\n",
    "# Add Gaussian noise to the true system data\n",
    "noise_variance = 1e-6\n",
    "noise = torch.randn(true_y.size()).to(device) * noise_variance**0.5\n",
    "noisy_y = true_y + noise\n",
    "\n",
    "# Function to get mini-batch data for training\n",
    "def get_batch():\n",
    "    # Randomly select batch indices\n",
    "    s = torch.from_numpy(np.random.choice(np.arange(data_size - batch_time, dtype=np.int64), batch_size, replace=False))\n",
    "    batch_y0 = noisy_y[s]  # Initial condition for each batch\n",
    "    batch_t = t[:batch_time]  # Time steps for each batch\n",
    "    batch_y = torch.stack([noisy_y[s + i] for i in range(batch_time)], dim=0)  # Batch data\n",
    "    return batch_y0.to(device), batch_t.to(device), batch_y.to(device)\n",
    "\n",
    "# Setup visualization (create output directory and plot)\n",
    "if viz:\n",
    "    os.makedirs('png', exist_ok=True)\n",
    "    fig, (ax_traj, ax_phase) = plt.subplots(1, 2, figsize=(8, 4), facecolor='white')\n",
    "    plt.show(block=False)\n",
    "\n",
    "# Visualization function to plot trajectories and phase portrait\n",
    "def visualize(true_y, pred_y, noisy_y, itr):\n",
    "    if viz:\n",
    "        # Plot true trajectory, noisy data, and predicted trajectory\n",
    "        ax_traj.cla()\n",
    "        ax_traj.set_title('Trajectories')\n",
    "        ax_traj.set_xlabel('t')\n",
    "        ax_traj.set_ylabel('x, y')\n",
    "        ax_traj.plot(t.cpu().numpy(), true_y.cpu().numpy()[:, 0, 0], 'g-', label='True System')\n",
    "        ax_traj.plot(t.cpu().numpy(), noisy_y.cpu().numpy()[:, 0, 0], 'r-', label='Noisy System')\n",
    "        ax_traj.plot(t.cpu().numpy(), pred_y.cpu().numpy()[:, 0, 0], 'b--', label='Neural ODE')\n",
    "        ax_traj.legend()\n",
    "\n",
    "        # Plot phase portrait\n",
    "        ax_phase.cla()\n",
    "        ax_phase.set_title('Phase Portrait')\n",
    "        ax_phase.plot(true_y.cpu().numpy()[:, 0, 0], true_y.cpu().numpy()[:, 0, 1], 'g-')\n",
    "        ax_phase.plot(pred_y.cpu().numpy()[:, 0, 0], pred_y.cpu().numpy()[:, 0, 1], 'b--')\n",
    "\n",
    "        fig.tight_layout()\n",
    "        plt.savefig(f'png/{itr:03d}.png')\n",
    "        plt.pause(0.001)\n",
    "\n",
    "# Define the neural ODE model to learn the dynamics\n",
    "class ODEFunc(nn.Module):\n",
    "    def __init__(self):\n",
    "        super(ODEFunc, self).__init__()\n",
    "        # Define a simple feed-forward network\n",
    "        self.net = nn.Sequential(\n",
    "            nn.Linear(2, 50),\n",
    "            nn.Tanh(),\n",
    "            nn.Linear(50, 2)\n",
    "        )\n",
    "        # Initialize weights and biases\n",
    "        for m in self.net.modules():\n",
    "            if isinstance(m, nn.Linear):\n",
    "                nn.init.normal_(m.weight, mean=0, std=0.1)\n",
    "                nn.init.constant_(m.bias, val=0)\n",
    "\n",
    "    def forward(self, t, y):\n",
    "        # Define the neural ODE dynamics\n",
    "        return self.net(y**3)\n",
    "\n",
    "# Training loop\n",
    "func = ODEFunc().to(device)\n",
    "optimizer = optim.RMSprop(func.parameters(), lr=2e-5)\n",
    "\n",
    "for itr in range(1, niters + 1):\n",
    "    # Get mini-batch data\n",
    "    optimizer.zero_grad()\n",
    "    batch_y0, batch_t, batch_y = get_batch()\n",
    "    pred_y = odeint(func, batch_y0, batch_t).to(device)  # Predict dynamics\n",
    "    loss = torch.mean(torch.abs(pred_y - batch_y))       # Compute loss\n",
    "    loss.backward()  # Backpropagation\n",
    "    optimizer.step()  # Update model parameters\n",
    "\n",
    "    # Print and visualize at specified intervals\n",
    "    if itr % test_freq == 0 or itr == 1:\n",
    "        with torch.no_grad():\n",
    "            pred_y = odeint(func, true_y0, t)\n",
    "            loss = torch.mean(torch.abs(pred_y - noisy_y))\n",
    "            print(f'Iter {itr:04d} | Total Loss {loss.item():.6f}')\n",
    "            visualize(true_y, pred_y, noisy_y, itr)\n",
    "\n",
    "# Final visualization with a new initial condition\n",
    "new_y0 = torch.tensor([[0.15, 0.2]]).to(device)\n",
    "with torch.no_grad():\n",
    "    true_y = odeint(Lambda(), new_y0, t, method=method)\n",
    "    pred_y = odeint(func, new_y0, t)\n",
    "visualize(true_y, pred_y, noisy_y, itr)\n",
    "loss = torch.mean(torch.abs(pred_y - true_y))\n",
    "print(f'Total Loss {loss.item():.6f}')\n"
   ]
  }
 ],
 "metadata": {
  "kernelspec": {
   "display_name": "base",
   "language": "python",
   "name": "python3"
  },
  "language_info": {
   "codemirror_mode": {
    "name": "ipython",
    "version": 3
   },
   "file_extension": ".py",
   "mimetype": "text/x-python",
   "name": "python",
   "nbconvert_exporter": "python",
   "pygments_lexer": "ipython3",
   "version": "3.12.4"
  }
 },
 "nbformat": 4,
 "nbformat_minor": 2
}
