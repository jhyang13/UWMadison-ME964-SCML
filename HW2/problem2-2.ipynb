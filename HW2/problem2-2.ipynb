{
 "cells": [
  {
   "cell_type": "markdown",
   "metadata": {},
   "source": [
    "### Problem 2, (2): Transforming the System into First-Order Form"
   ]
  },
  {
   "cell_type": "markdown",
   "metadata": {},
   "source": [
    "Given the system of two masses, springs, and dampers:\n",
    "\n",
    "$m \\ddot{x}_1(t) + c \\dot{x}_1(t) + k x_1(t) = c \\dot{x}_2(t) + k x_2(t)$\n",
    "\n",
    "$m \\ddot{x}_2(t) + c \\dot{x}_2(t) + k x_2(t) = c \\dot{x}_1(t) + k x_1(t)$\n",
    "\n",
    "With the initial conditions:\n",
    "\n",
    "$x_1(0) = 0, \\quad \\dot{x}_1(0) = 0, \\quad x_2(0) = 1, \\quad \\dot{x}_2(0) = 0$\n",
    "\n",
    "And the parameters:\n",
    "$m = 1, k = 10, c = 1$\n"
   ]
  },
  {
   "cell_type": "markdown",
   "metadata": {},
   "source": [
    "### Step 1: Simplifying the Equations\n",
    "\n",
    "Given the parameters $m = 1, k = 10, c = 1$, the system simplifies to:\n",
    "\n",
    "$\\ddot{x}_1(t) + \\dot{x}_1(t) + 10 x_1(t) = \\dot{x}_2(t) + 10 x_2(t)$\n",
    "\n",
    "$\\ddot{x}_2(t) + \\dot{x}_2(t) + 10 x_2(t) = \\dot{x}_1(t) + 10 x_1(t)$\n"
   ]
  },
  {
   "cell_type": "markdown",
   "metadata": {},
   "source": [
    "### Step 2: Introducing New Variables\n",
    "\n",
    "Let: \n",
    "\n",
    "$y_1(t) = \\dot{x}_1(t)$\n",
    "\n",
    "$y_2(t) = \\dot{x}_2(t)$\n",
    "\n",
    "Then the equations become:\n",
    "\n",
    "$\\dot{y}_1(t) = \\ddot{x}_1(t)$\n",
    "\n",
    "$\\dot{y}_2(t) = \\ddot{x}_2(t)$"
   ]
  },
  {
   "cell_type": "markdown",
   "metadata": {},
   "source": [
    "### Step 3: Writing the System as a Matrix Equation\n",
    "\n",
    "From the first equation:\n",
    "\n",
    "$\\dot{y}_1 + y_1 + 10 x_1 = y_2 + 10 x_2$\n",
    "\n",
    "Rearranging:\n",
    "\n",
    "$\\dot{y}_1 = y_2 + 10 x_2 - y_1 - 10 x_1$\n",
    "\n",
    "From the second equation:\n",
    "\n",
    "$\\dot{y}_2 + y_2 + 10 x_2 = y_1 + 10 x_1$\n",
    "\n",
    "Rearranging:\n",
    "\n",
    "$\\dot{y}_2 = y_1 + 10 x_1 - y_2 - 10 x_2$\n",
    "\n",
    "Thus, we have the following first-order system:\n",
    "\n",
    "$\\dot{x}_1 = y_1$\n",
    "\n",
    "$\\dot{y}_1 = y_2 + 10 x_2 - y_1 - 10 x_1$\n",
    "\n",
    "$\\dot{x}_2 = y_2$\n",
    "\n",
    "$\\dot{y}_2 = y_1 + 10 x_1 - y_2 - 10 x_2$"
   ]
  },
  {
   "attachments": {
    "image-2.png": {
     "image/png": "[encoded data removed]"
    },
    "image.png": {
     "image/png": "[encoded data removed]"
    }
   },
   "cell_type": "markdown",
   "metadata": {},
   "source": [
    "### Step 4: Matrix Representation\n",
    "\n",
    "We can express the system as a matrix equation:\n",
    "\n",
    "![image.png](attachment:image.png)\n",
    "\n",
    "Where B is a matrix that describes the system dynamics:\n",
    "\n",
    "![image-2.png](attachment:image-2.png)\n",
    "\n",
    "This is the first-order form of the system."
   ]
  }
 ],
 "metadata": {
  "language_info": {
   "name": "python"
  }
 },
 "nbformat": 4,
 "nbformat_minor": 2
}
