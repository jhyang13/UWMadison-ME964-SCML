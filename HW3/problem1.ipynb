{
 "cells": [
  {
   "cell_type": "code",
   "execution_count": 5,
   "metadata": {},
   "outputs": [],
   "source": [
    "import numpy as np\n",
    "from scipy.linalg import hilbert\n",
    "from scipy.sparse.linalg import cg\n",
    "from scipy.linalg import solve\n",
    "from numpy.linalg import cond\n",
    "import pandas as pd"
   ]
  },
  {
   "cell_type": "code",
   "execution_count": 6,
   "metadata": {},
   "outputs": [
    {
     "name": "stderr",
     "output_type": "stream",
     "text": [
      "C:\\Users\\jhyang\\AppData\\Local\\Temp\\ipykernel_16576\\1634977234.py:15: LinAlgWarning: Ill-conditioned matrix (rcond=2.93284e-20): result may not be accurate.\n",
      "  x_direct = solve(A, b)\n",
      "C:\\Users\\jhyang\\AppData\\Local\\Temp\\ipykernel_16576\\1634977234.py:15: LinAlgWarning: Ill-conditioned matrix (rcond=8.9205e-21): result may not be accurate.\n",
      "  x_direct = solve(A, b)\n"
     ]
    },
    {
     "name": "stdout",
     "output_type": "stream",
     "text": [
      "     n      K(A) Direct Error  PG Error  PG Iter PCG Error  PCG Iter\n",
      "1    5  4.77e+05     4.03e-12  4.36e-03     6823  4.22e-02         3\n",
      "2    9  4.93e+11     5.26e-05  4.42e-03    12489  2.79e-02         4\n",
      "3   20  1.16e+18     1.60e+02  6.71e-03    13419  3.30e-02         5\n",
      "4  100  1.08e+19     2.95e+03  6.61e-03    61033  1.32e-01         6\n"
     ]
    }
   ],
   "source": [
    "# Define the matrix dimensions to be tested\n",
    "n_values = [5, 9, 20, 100]\n",
    "results = []\n",
    "\n",
    "for n in n_values:\n",
    "    # Create Hilbert matrix and exact solution\n",
    "    A = hilbert(n)\n",
    "    x_exact = np.ones(n)\n",
    "    b = A @ x_exact  # Generate b based on known solution x\n",
    "\n",
    "    # 1. Compute the condition number\n",
    "    condition_number = cond(A)\n",
    "    \n",
    "    # 2. Solve using the direct method\n",
    "    x_direct = solve(A, b)\n",
    "    error_direct = np.linalg.norm(x_exact - x_direct)\n",
    "\n",
    "    # 3. Solve using Preconditioned Gradient Descent (PG) method with iteration count\n",
    "    def preconditioned_gradient_descent(A, b, M, x0=None, tol=1e-7, max_iterations=100000):\n",
    "        n = len(b)\n",
    "        x = np.zeros_like(b) if x0 is None else x0\n",
    "        iteration_count = 0  # Initialize iteration counter\n",
    "        r = b - A @ x  # Initial residual\n",
    "        while iteration_count < max_iterations and np.linalg.norm(r) > tol:\n",
    "            z = M @ r  # Apply preconditioner\n",
    "            alpha = (r @ z) / (z @ (A @ z))  # Compute step size\n",
    "            x += alpha * z  # Update solution\n",
    "            r -= alpha * (A @ z)  # Update residual\n",
    "            iteration_count += 1  # Increment iteration count\n",
    "        return x, iteration_count\n",
    "\n",
    "    # Diagonal preconditioner for PG\n",
    "    M_pg = np.diag(1 / np.diag(A))\n",
    "    x_pg, pg_iterations = preconditioned_gradient_descent(A, b, M_pg)\n",
    "    error_pg = np.linalg.norm(x_exact - x_pg)\n",
    "\n",
    "    # 4. Solve using PCG method with a diagonal preconditioner and custom iteration counter\n",
    "    M_pcg = np.diag(1 / np.diag(A))  # Preconditioner matrix as the inverse of the diagonal entries of A\n",
    "\n",
    "    # Custom iteration counter using a mutable list\n",
    "    iteration_count = [0]\n",
    "    def iteration_callback(xk):\n",
    "        iteration_count[0] += 1\n",
    "\n",
    "    # Use CG with preconditioning and capture the iteration information\n",
    "    x_pcg, pcg_info = cg(A, b, M=M_pcg, atol=1e-10, maxiter=100000, callback=iteration_callback)\n",
    "    error_pcg = np.linalg.norm(x_exact - x_pcg)\n",
    "    \n",
    "    # Set the PCG iteration count based on convergence information\n",
    "    pcg_iterations = iteration_count[0] if pcg_info == 0 else \"Reached Maximum Iterations\"\n",
    "\n",
    "    # Save results\n",
    "    results.append({\n",
    "        'n': n,\n",
    "        'K(A)': f\"{condition_number:.2e}\",\n",
    "        'Direct Error': f\"{error_direct:.2e}\",\n",
    "        'PG Error': f\"{error_pg:.2e}\",\n",
    "        'PG Iter': pg_iterations,\n",
    "        'PCG Error': f\"{error_pcg:.2e}\",\n",
    "        'PCG Iter': pcg_iterations\n",
    "    })\n",
    "\n",
    "# Display the results as a DataFrame\n",
    "df = pd.DataFrame(results)\n",
    "\n",
    "# Rename columns for better readability\n",
    "df = df.rename(columns={\n",
    "    'n': 'n',\n",
    "    'K(A)': 'K(A)',\n",
    "    'Direct Error': 'Direct Error',\n",
    "    'PG Error': 'PG Error',\n",
    "    'PG Iter': 'PG Iter',\n",
    "    'PCG Error': 'PCG Error',\n",
    "    'PCG Iter': 'PCG Iter'\n",
    "})\n",
    "\n",
    "# Reset the index to start from 1 for better readability\n",
    "df.index = range(1, len(df) + 1)\n",
    "\n",
    "# Print the DataFrame as plain text\n",
    "print(df.to_string(index=True))"
   ]
  }
 ],
 "metadata": {
  "kernelspec": {
   "display_name": "base",
   "language": "python",
   "name": "python3"
  },
  "language_info": {
   "codemirror_mode": {
    "name": "ipython",
    "version": 3
   },
   "file_extension": ".py",
   "mimetype": "text/x-python",
   "name": "python",
   "nbconvert_exporter": "python",
   "pygments_lexer": "ipython3",
   "version": "3.12.4"
  }
 },
 "nbformat": 4,
 "nbformat_minor": 2
}
